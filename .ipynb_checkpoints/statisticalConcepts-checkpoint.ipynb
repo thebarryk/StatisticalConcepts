{
 "cells": [
  {
   "cell_type": "markdown",
   "metadata": {},
   "source": [
    "### Hypothesis Testing\n",
    "In this lesson we are tackling the problem of whether the occurance of an event is random or has an underlying cause. A good example is when a basketball makes 4 3-pointers in a row. Or, we make a change in a website and make more sales in the next hour. Is that because of the change, or is it just a random variation? Or, we survey prospective votes and one candidate is getting 2% more than the other. Is that sampling error or a reliable voting trend?\n",
    "\n",
    "We’ve generated random samples from a population with a given population mean. We are going to look at how the means of different samples can vary within the same population."
   ]
  },
  {
   "cell_type": "code",
   "execution_count": 22,
   "metadata": {},
   "outputs": [],
   "source": [
    "import numpy as np\n",
    "from scipy.stats import ttest_1samp, ttest_ind\n",
    "from matplotlib import pyplot as plt\n",
    "from statsmodels.stats.multicomp import pairwise_tukeyhsd\n",
    "from scipy.stats import f_oneway\n",
    "\n",
    "\n",
    "\n",
    "# read a file and output it so that it can be copied and pasted into file for jupyter to use\n",
    "# import sys\n",
    "# name = 'week2'\n",
    "# with open(name+'.csv') as f:\n",
    "#   for x in f:\n",
    "#     sys.stdout.write('{}'.format(x))"
   ]
  },
  {
   "cell_type": "code",
   "execution_count": 2,
   "metadata": {},
   "outputs": [
    {
     "name": "stdout",
     "output_type": "stream",
     "text": [
      "Population Mean: 64.87679022495132\n",
      "Sample 1 Mean: 65.79509100665993\n",
      "Sample 2 Mean: 64.96327772167622\n",
      "Sample 3 Mean: 65.35100927672997\n",
      "Sample 4 Mean: 64.37749235931001\n",
      "Sample 5 Mean: 64.11271535850175\n"
     ]
    }
   ],
   "source": [
    "\n",
    "\n",
    "population = np.random.normal(loc=65, scale=3.5, size=300)\n",
    "population_mean = np.mean(population)\n",
    "\n",
    "print(\"Population Mean: {}\".format(population_mean))\n",
    "\n",
    "sample_1 = np.random.choice(population, size=30, replace=False)\n",
    "sample_2 = np.random.choice(population, size=30, replace=False)\n",
    "sample_3 = np.random.choice(population, size=30, replace=False)\n",
    "sample_4 = np.random.choice(population, size=30, replace=False)\n",
    "sample_5 = np.random.choice(population, size=30, replace=False)\n",
    "\n",
    "sample_1_mean = np.mean(sample_1)\n",
    "print(\"Sample 1 Mean: {}\".format(sample_1_mean))\n",
    "\n",
    "sample_2_mean = np.mean(sample_2)\n",
    "sample_3_mean = np.mean(sample_3)\n",
    "sample_4_mean = np.mean(sample_4)\n",
    "sample_5_mean = np.mean(sample_5)\n",
    "\n",
    "print(\"Sample 2 Mean: {}\".format(sample_2_mean))\n",
    "print(\"Sample 3 Mean: {}\".format(sample_3_mean))\n",
    "print(\"Sample 4 Mean: {}\".format(sample_4_mean))\n",
    "print(\"Sample 5 Mean: {}\".format(sample_5_mean))"
   ]
  },
  {
   "cell_type": "code",
   "execution_count": 4,
   "metadata": {
    "scrolled": true
   },
   "outputs": [
    {
     "name": "stdout",
     "output_type": "stream",
     "text": [
      "Extra Small Sample Mean: 128.9675053478923\n",
      "Small Sample Mean: 66.74617696441976\n",
      "Medium Sample Mean: 66.43708905813897\n",
      "Large Sample Mean: 61.712715932255904\n",
      "Extra Large Sample Mean: 61.992475720915984\n",
      "\n",
      "Population Mean: 61.66116674088095\n"
     ]
    }
   ],
   "source": [
    "# Central Limit Theorem says that as the sample size increases the pop stats proceed to a limit\n",
    "# This example increases the size of the sample to demonstrate\n",
    "# Create population and find population mean\n",
    "population = np.random.normal(loc=65, scale=100, size=3000)\n",
    "population_mean = np.mean(population)\n",
    "\n",
    "# Select increasingly larger samples\n",
    "extra_small_sample = population[:10]\n",
    "small_sample = population[:50]\n",
    "medium_sample = population[:100]\n",
    "large_sample = population[:500]\n",
    "extra_large_sample = population[:1000]\n",
    "\n",
    "# Calculate the mean of those samples\n",
    "extra_small_sample_mean = np.mean(extra_small_sample)\n",
    "small_sample_mean = np.mean(small_sample)\n",
    "medium_sample_mean = np.mean(medium_sample)\n",
    "large_sample_mean = np.mean(large_sample)\n",
    "extra_large_sample_mean = np.mean(extra_large_sample)\n",
    "\n",
    "# Print them all out!\n",
    "print(\"Extra Small Sample Mean: {}\".format(extra_small_sample_mean))\n",
    "print(\"Small Sample Mean: {}\".format(small_sample_mean))\n",
    "print(\"Medium Sample Mean: {}\".format(medium_sample_mean))\n",
    "print(\"Large Sample Mean: {}\".format(large_sample_mean))\n",
    "print(\"Extra Large Sample Mean: {}\".format(extra_large_sample_mean))\n",
    "\n",
    "print(\"\\nPopulation Mean: {}\".format(population_mean))"
   ]
  },
  {
   "cell_type": "markdown",
   "metadata": {},
   "source": [
    "### Hypothesis Tests\n",
    "When observing differences in data, a data analyst understands the possibility that these differences could be the result of random chance.\n",
    "\n",
    "Suppose we want to know if men are more likely to sign up for a given programming class than women. We invite 100 men and 100 women to this class. After one week, 34 women sign up, and 39 men sign up. More men than women signed up, but is this a “real” difference?\n",
    "\n",
    "We have taken sample means from two different populations, men and women. We want to know if the difference that we observe in these sample means reflects a difference in the population means. To formally answer this question, we need to re-frame it in terms of probability:\n",
    "\n",
    "“What is the probability that men and women have the same level of interest in this class and that the difference we observed is just chance?”\n",
    "\n",
    "In other words, “If we gave the same invitation to every person in the world, would more men still sign up?”\n",
    "\n",
    "A more formal version is: “What is the probability that the two population means are the same and that the difference we observed in the sample means is just chance?”\n",
    "m\n",
    "These statements are all ways of expressing a null hypothesis. A null hypothesis is a statement that the observed difference is the result of chance.\n",
    "\n",
    "Hypothesis testing is a mathematical way of determining whether we can be confident that the null hypothesis is false. Different situations will require different types of hypothesis testing"
   ]
  },
  {
   "cell_type": "markdown",
   "metadata": {},
   "source": [
    "### Type 1 and Type II Errors\n",
    "Type I error is a false positive when a correlation is found between things that are not related. Or, when the null hypothesis is rejected but actually true. Vaccine works when actually it has no efficacy. Null test: #vaccinated who don't get sick = #unvaccinated who don't get sick. When this null test is rejected, ie. we think the medicine worked, they we have a false positive, the medicine works.\n",
    "\n",
    "Does regeneron work? That is, when Trump tested positive for Covid he took regeneron and got better. This is a false positive: regeneron works, if actually it was a random event. The only way to know is to have larger sample of covid positive people and give some of them regeneron and not give some to the others. If the mean of the two samples is the same, then giving regeneron has no effect. How large does the sample have to be? The means have to be outside each other's std deviation, the more the better. Tstad deviation will decrease as the sample size grows. The null hypothesi is mean(regeneron) - mean(no regeneron) = 0.\n",
    "\n",
    "Type I error is a false negative, The null hypothesis is accepted when actually it is false. A correlation between two variable is not found when one actually exists.\n"
   ]
  },
  {
   "cell_type": "code",
   "execution_count": 10,
   "metadata": {},
   "outputs": [
    {
     "name": "stdout",
     "output_type": "stream",
     "text": [
      "[4, 9, 11, 13, 15, 16, 17, 19, 20, 22, 26, 27, 28, 35, 36, 40, 46, 49]\n",
      "[6, 25, 29, 30, 33, 42, 44, 47]\n"
     ]
    }
   ],
   "source": [
    "def intersect(list1, list2):\n",
    "  return [sample for sample in list1 if sample in list2]\n",
    "\n",
    "# the true positives and negatives:\n",
    "actual_positive = [2, 5, 6, 7, 8, 10, 18, 21, 24, 25, 29, 30, 32, 33, 38, \\\n",
    "                   39, 42, 44, 45, 47]\n",
    "actual_negative = [1, 3, 4, 9, 11, 12, 13, 14, 15, 16, 17, 19, 20, 22, 23, \\\n",
    "                   26, 27, 28, 31, 34, 35, 36, 37, 40, 41, 43, 46, 48, 49]\n",
    "\n",
    "# the positives and negatives we determine by running the experiment:\n",
    "experimental_positive = [2, 4, 5, 7, 8, 9, 10, 11, 13, 15, 16, 17, 18, 19, 20, \\\n",
    "                         21, 22, 24, 26, 27, 28, 32, 35, 36, 38, 39, 40, 45, 46, 49]\n",
    "experimental_negative = [1, 3, 6, 12, 14, 23, 25, 29, 30, 31, 33, 34, 37, 41, \\\n",
    "                         42, 43, 44, 47, 48]\n",
    "\n",
    "# False positives: expts predicted positive results when they were actually negative\n",
    "type_i_errors = intersect(actual_negative, experimental_positive)\n",
    "print(type_i_errors)\n",
    "\n",
    "# False negatives: expts predicted negative results when they should have been positive\n",
    "type_ii_errors = intersect(actual_positive, experimental_negative)\n",
    "print(type_ii_errors)"
   ]
  },
  {
   "cell_type": "markdown",
   "metadata": {},
   "source": [
    "### P-Values\n",
    "We have discussed how a hypothesis test is used to determine the validity of a null hypothesis. A hypothesis test provides a numerical answer, called a p-value, that helps us decide how confident we can be in the result. In this context, a p-value is the probability that we yield the observed statistics under the assumption that the null hypothesis is true.\n",
    "\n",
    "A p-value of 0.05 means that if the null hypothesis is true, there is a 5% chance that an observed sample statistic could have occurred due to random sampling error. For example, in comparing two sample means, a p-value of 0.05 indicates there is a 5% chance that the observed difference in sample means occurred by random chance, even though the population means are equal.\n",
    "\n",
    "Before conducting a hypothesis test, we determine the necessary threshold we would need before concluding that the results are significant. A higher threshold is more likely to give a false positive so if we want to be very sure that the result is not due to just chance, we will select a very small threshold.\n",
    "\n",
    "It is important that we choose the significance level before we perform our statistical hypothesis tests to yield a p-value. If we wait until after we see the results, we might pick our threshold such that we get the result we want to see. For instance, if we’re trying to publish our results, we might set a significance level that makes our results seem statistically significant. Choosing our significance level in advance helps keep us honest.\n",
    "\n",
    "Generally, we want a p-value of less than 0.05, meaning that there is less than a 5% chance that our results are due to random chance."
   ]
  },
  {
   "cell_type": "code",
   "execution_count": 12,
   "metadata": {},
   "outputs": [
    {
     "name": "stdout",
     "output_type": "stream",
     "text": [
      "For p_value 0.1 Null hypothesis is: False\n",
      "For p_value 0.009 Null hypothesis is: True\n",
      "For p_value 0.051 Null hypothesis is: False\n",
      "For p_value 0.012 Null hypothesis is: True\n",
      "For p_value 0.37 Null hypothesis is: False\n",
      "For p_value 0.6 Null hypothesis is: False\n",
      "For p_value 0.11 Null hypothesis is: False\n",
      "For p_value 0.025 Null hypothesis is: True\n",
      "For p_value 0.0499 Null hypothesis is: True\n",
      "For p_value 0.0001 Null hypothesis is: True\n"
     ]
    }
   ],
   "source": [
    "# Reject null hypothesis\n",
    "\n",
    "def reject_null_hypothesis(p_value):\n",
    "    \"\"\"\n",
    "    Returns the truthiness of whether the null hypothesis can be rejected\n",
    "\n",
    "    Takes a p-value as its input and assumes p <= 0.05 is significant\n",
    "    \"\"\"\n",
    "    result = p_value<=0.05\n",
    "    print('For p_value', p_value, 'Null hypothesis is:', result)\n",
    "    return result\n",
    "\n",
    "hypothesis_tests = [0.1, 0.009, 0.051, 0.012, 0.37, 0.6, 0.11, 0.025, 0.0499, 0.0001]\n",
    "\n",
    "for p_value in hypothesis_tests:\n",
    "    reject_null_hypothesis(p_value)\n"
   ]
  },
  {
   "cell_type": "markdown",
   "metadata": {},
   "source": [
    "### 1 Sample T-Testing\n",
    "Let’s imagine the fictional business BuyPie, which sends ingredients for pies to your household so that you can make them from scratch. Suppose that a product manager wants online BuyPie orders to cost around 1000 Rupees on average. In the past day, 50 people made an online purchase and the average payment per order was only 850 Rupees. Are people really spending less than 1000 Rupees on average? Or is this just the result of chance and a small sample size?\n",
    "\n",
    "We can test this using a 1 Sample T Test, which compares a sample mean to a hypothetical population mean.\n",
    "\n",
    "When we conduct a 1 Sample T Test, we want to first create a null hypothesis, which is a prediction that the observed sample comes from a population with a particular mean. For example: “the average cost of a BuyPie order is 1000 Rupees”. Note that, even if the null hypothesis were true, it’s very unlikely that any observed sample mean will be exactly 1000.00 Rupees.\n",
    "\n",
    "We also have to determine an alternative hypothesis, which is a statement about the kind of difference we are interested in. For example, we might form the following alternative hypothesis: “The average cost of a BuyPie order is not 1000 Rupees”.\n",
    "\n",
    "If we form the null and alternative tests as indicated above, the test asks the following question: “Suppose that that the average cost of a BuyPie order is 1000 Rupees; what is the probability of observing a sample of 50 orders with cost as different or more different from 1000 as we did (i.e., < 850 or > 1150)?”\n",
    "\n",
    "The result of the test is a p-value. If the p-value is less than our pre-chosen threshold (usually .05), we can reject the null hypothesis in favor of the alternative. When we reject the null, we are saying that it would be unlikely to observe our sample (or something more extreme) if the null hypothesis were true.\n",
    "\n",
    "It is important to note that we cannot conclude anything about magnitude of differences based on this test; for example, we might conclude that it is unlikely that the average cost of all BuyPie orders is 1000 Rupees; however, we cannot then conclude that the average cost is closer to 850 Rupees.\n",
    "\n",
    "SciPy has a function called ttest_1samp, which performs a 1 Sample T-Test for you.\n",
    "\n",
    "ttest_1samp requires two inputs, a sample distribution (eg. the list of the 50 observed purchase prices) and a mean to test against (eg. 1000):\n",
    "\n",
    "tstat, pval = ttest_1samp(example_distribution, expected_mean)\n",
    "print pval\n",
    "It also returns two outputs: the t-statistic (which we won’t cover in this course), and the p-value — telling us how confident we can be that the sample of values came from a distribution with the specified mean."
   ]
  },
  {
   "cell_type": "code",
   "execution_count": 85,
   "metadata": {},
   "outputs": [
    {
     "name": "stdout",
     "output_type": "stream",
     "text": [
      "[ 978. 1080.  999.  855. 1105.  961.  899. 1061.  880. 1455.  505.  936.\n",
      " 1024.  982.]\n",
      "Prices mean: 980.0\n",
      "192.76632782427833\n",
      "pval:  0.7143713930133531\n",
      "Shows that sample has a 71.0% chance of being randomly drawn from population with mean=1000\n"
     ]
    }
   ],
   "source": [
    "\n",
    "prices = np.genfromtxt(\"prices.csv\")\n",
    "print(prices)\n",
    "\n",
    "prices_mean = np.mean(prices)\n",
    "print('Prices mean:', prices_mean)\n",
    "prices_std  = np.std(prices)\n",
    "print(prices_std)\n",
    "\n",
    "expected_mean = 1000\n",
    "tstat, pval = ttest_1samp(prices, expected_mean)\n",
    "\n",
    "print('pval: ', pval)\n",
    "print(f'Shows that sample has a {round(100*pval)}% chance of being randomly drawn from population with mean={expected_mean}')"
   ]
  },
  {
   "cell_type": "code",
   "execution_count": 101,
   "metadata": {},
   "outputs": [
    {
     "data": {
      "image/png": "[encoded data removed]",
      "text/plain": [
       "<Figure size 432x288 with 1 Axes>"
      ]
     },
     "metadata": {
      "needs_background": "light"
     },
     "output_type": "display_data"
    }
   ],
   "source": [
    "# Compare the sample to a random population with expected_mean\n",
    "pop = np.random.normal(expected_mean, prices_std, 10000)\n",
    "plt.hist(prices, histtype='step', density=True, label='Sample', color='blue', linewidth=3, alpha=.5)\n",
    "plt.axvline(prices_mean, ymax=.85, color='blue')\n",
    "plt.hist(pop, histtype='step', density=True, label='Population', color='red', linewidth=3, alpha=.5, bins=200)\n",
    "plt.axvline(expected_mean, ymax=.55, color='red')\n",
    "\n",
    "plt.title('Compare sample with normal distribution')\n",
    "plt.xlabel('Amount purchased per visitor')\n",
    "plt.ylabel('Frequency')\n",
    "plt.legend()\n",
    "\n",
    "plt.show()"
   ]
  },
  {
   "cell_type": "markdown",
   "metadata": {},
   "source": [
    "### One Sample T-Test II\n",
    "In the last exercise, we got a p-value that was much higher than 0.05, so we cannot reject the null hypothesis. If we conduct another experiment and take a new sample of orders, will we get the same result? Not necessarily!\n",
    "\n",
    "Just because we don’t have enough data to detect a difference doesn’t mean that there isn’t one. Generally, the larger the sample(s) we have, the smaller a difference we’ll be able to detect. You can learn more about the exact relationship between sample size and detectable differences in the Sample Size Determination course.\n",
    "\n",
    "It’s also possible that the true mean order price really is 1000 Rupees, but a single sample still leads us to incorrectly reject the null hypothesis. Remember that this is called Type 1 Error and the significance threshold we use for our test should be equal to the type 1 error rate under the null hypothesis. In other words, if we set a 0.05 significance threshold and the true mean purchase price is truly 1000 Rupees, we still expect to incorrectly reject the null (and say that the mean is not 1000 Rupees) in 5% of experiments.\n",
    "\n",
    "To build intuition for the limitations of conclusions based on any individual sample, let’s explore some more data from BuyPie.com and see whether we consistently observe the same results."
   ]
  },
  {
   "cell_type": "code",
   "execution_count": 44,
   "metadata": {},
   "outputs": [
    {
     "name": "stdout",
     "output_type": "stream",
     "text": [
      "We incorrectly thought that the distribution was different in 55 out of 1000 experiments.\n"
     ]
    }
   ],
   "source": [
    "incorrect_results = 0 # Start the counter at 0\n",
    "\n",
    "daily_prices = np.genfromtxt(\"daily_prices.csv\", delimiter=\",\")\n",
    "\n",
    "expected_mean = 1000\n",
    "\n",
    "for i in range(1000): # 1000 experiments\n",
    "    #your ttest here:\n",
    "    tstat, pval = ttest_1samp(daily_prices[i], expected_mean)\n",
    "    #print the pvalue here:\n",
    "#     print(pval)\n",
    "    if pval<=0.05:\n",
    "        incorrect_results += 1\n",
    "\n",
    "  \n",
    "print(\"We incorrectly thought that the distribution was different in \" + str(incorrect_results) + \" out of 1000 experiments.\")\n",
    "\n",
    "# We get 55. Our prediction is expected to be correct within 0.05, or about 50 of the samples. That's close."
   ]
  },
  {
   "cell_type": "markdown",
   "metadata": {},
   "source": [
    "### 2 Sample T-Test\n",
    "Suppose that a company has recently updated their website to make it more colorful and inviting. The company wants to know whether the new design is resulting in visitors staying on the site for a longer period of time. A sample of 100 visitors who saw the old design spent an average of 25 minutes on the site. A second sample of 100 visitors who saw the new version spent an average of 28 minutes on the site. Did the average time spent per visitor vary across groups? Or is this difference attributable to random chance?\n",
    "\n",
    "One way of testing whether this difference is significant is by using a 2 Sample T-Test. A 2 Sample T-Test compares two sets of numerical data.\n",
    "\n",
    "The null hypothesis of a 2 Sample T-Test is that the two observed samples come from populations with the same mean. In the example above, this means: if we could observe all site visitors in two alternate universes (one where they see each version of the site), the average visiting times in these universes would be equal.\n",
    "\n",
    "The alternative hypothesis could be: The two observed samples come from populations with different means. In the example above, this would mean that the average visiting times in our two alternate universes are actually different, hence why we observed a difference in our samples.\n",
    "\n",
    "We can use SciPy’s ttest_ind function to perform a 2 Sample T-Test. It takes the two samples as inputs and returns the t-statistic and a p-value, which we can use to assess the probability of an observed difference happening by chance if the null hypothesis were true. For more information about p-values, refer to the earlier exercise on univariate t-tests."
   ]
  },
  {
   "cell_type": "code",
   "execution_count": null,
   "metadata": {},
   "outputs": [],
   "source": [
    "# read a file and output it so that it can be copied and pasted into file for jupyter to use\n",
    "# import sys\n",
    "# name = 'week2'\n",
    "# with open(name+'.csv') as f:\n",
    "#   for x in f:\n",
    "#     sys.stdout.write('{}'.format(x))"
   ]
  },
  {
   "cell_type": "code",
   "execution_count": 45,
   "metadata": {},
   "outputs": [],
   "source": [
    "week1 = np.genfromtxt(\"week1.csv\",  delimiter=\",\")\n",
    "week2 = np.genfromtxt(\"week2.csv\",  delimiter=\",\")"
   ]
  },
  {
   "cell_type": "code",
   "execution_count": 49,
   "metadata": {},
   "outputs": [
    {
     "name": "stdout",
     "output_type": "stream",
     "text": [
      "Week 1 mean: 25.448059395144654\n",
      "Week 2 mean: 29.021568107746155\n"
     ]
    }
   ],
   "source": [
    "# compute and store the means\n",
    "week1_mean = np.mean(week1)\n",
    "week2_mean = np.mean(week2)\n",
    "print('Week 1 mean:', week1_mean)\n",
    "print('Week 2 mean:', week2_mean)"
   ]
  },
  {
   "cell_type": "code",
   "execution_count": 51,
   "metadata": {},
   "outputs": [
    {
     "name": "stdout",
     "output_type": "stream",
     "text": [
      "Std 1: 4.531693387084315\n",
      "Std 2: 5.497966708653651\n"
     ]
    }
   ],
   "source": [
    "# find std dev\n",
    "week1_std = np.std(week1)\n",
    "week2_std = np.std(week2)\n",
    "print('Std 1:', week1_std)\n",
    "print('Std 2:', week2_std)"
   ]
  },
  {
   "cell_type": "code",
   "execution_count": 87,
   "metadata": {},
   "outputs": [
    {
     "name": "stdout",
     "output_type": "stream",
     "text": [
      "pval: 0.0006767676900067757\n",
      "Reject hypothesis that the sample populations have the same mean.\n"
     ]
    }
   ],
   "source": [
    "# Use 2 Samle T-test to see if the two distributions could have the same mean\n",
    "\n",
    "tstat, pval = ttest_ind(week1, week2)\n",
    "print('pval:', pval)\n",
    "if pval<=.05:\n",
    "    print(\"Reject hypothesis that the sample populations have the same mean.\")\n",
    "else:\n",
    "    print('Accept hypothesis that the sample populations the same mean.')"
   ]
  },
  {
   "cell_type": "code",
   "execution_count": 76,
   "metadata": {},
   "outputs": [
    {
     "data": {
      "image/png": "[encoded data removed]",
      "text/plain": [
       "<Figure size 432x288 with 1 Axes>"
      ]
     },
     "metadata": {
      "needs_background": "light"
     },
     "output_type": "display_data"
    }
   ],
   "source": [
    "# plot histos of the 2 samples to take a look for confirmation\n",
    "plt.hist(week1, histtype='step', density=True, label='Week 1', color='blue', linewidth=3, alpha=.5)\n",
    "plt.axvline(week1_mean, ymax=.75, color='blue')\n",
    "plt.hist(week2, histtype='step', density=True, label='Week 2', color='red', linewidth=3, alpha=.5)\n",
    "plt.axvline(week2_mean, ymax=.75, color='red')\n",
    "\n",
    "plt.title('2 samples are displaced, so means are likely different')\n",
    "plt.xlabel('Time Spent per Visitor on BuyPie')\n",
    "plt.ylabel('Frequency')\n",
    "plt.legend()\n",
    "\n",
    "plt.show()"
   ]
  },
  {
   "cell_type": "code",
   "execution_count": null,
   "metadata": {},
   "outputs": [],
   "source": []
  },
  {
   "cell_type": "markdown",
   "metadata": {},
   "source": [
    "### Dangers of Multiple T-Tests\n",
    "Suppose that we own a chain of stores that sell ants, called VeryAnts. There are three different locations: A, B, and C. We want to know if the average ant sales over the past year are significantly different between the three locations.\n",
    "\n",
    "At first, it seems that we could perform t-tests between each pair of stores.\n",
    "\n",
    "We know that the p-value is the probability that we incorrectly reject the null hypothesis on each t-test. The more t-tests we perform, the more likely that we are to get a false positive, a Type I error.\n",
    "\n",
    "For a significance threshold of 0.05, if the null hypothesis is true, then the probability of correctly failing to reject the null is 1 – 0.05 = 0.95. When we run another t-test where the null is true, the probability of correctly failing to reject the null on both of those tests is 0.95 * 0.95, or 0.9025. That means our probability of making an error is now 1 - 0.9025, or close to 10%! This error probability only gets bigger with the more t-tests we do. "
   ]
  },
  {
   "cell_type": "code",
   "execution_count": 90,
   "metadata": {},
   "outputs": [
    {
     "name": "stdout",
     "output_type": "stream",
     "text": [
      "58.34963608404818 65.62628713559894 62.36117318586781\n"
     ]
    }
   ],
   "source": [
    "a = np.genfromtxt(\"store_a.csv\",  delimiter=\",\")\n",
    "b = np.genfromtxt(\"store_b.csv\",  delimiter=\",\")\n",
    "c = np.genfromtxt(\"store_c.csv\",  delimiter=\",\")\n",
    "a_mean = np.mean(a)\n",
    "b_mean = np.mean(b)\n",
    "c_mean = np.mean(c)\n",
    "print(a_mean, b_mean, c_mean)\n",
    "a_std = np.std(a)\n",
    "b_std = np.std(b)\n",
    "c_std = np.std(c)\n",
    "print(a_std, b_std, c_std)\n"
   ]
  },
  {
   "cell_type": "code",
   "execution_count": 109,
   "metadata": {},
   "outputs": [
    {
     "data": {
      "image/png": "[encoded data removed]",
      "text/plain": [
       "<Figure size 864x288 with 1 Axes>"
      ]
     },
     "metadata": {
      "needs_background": "light"
     },
     "output_type": "display_data"
    }
   ],
   "source": [
    "plt.figure(figsize=(12,4))\n",
    "plt.hist(a, histtype='step', density=True, label='Store A', color='blue', linewidth=3, alpha=.5, bins=30)\n",
    "plt.axvline(a_mean, ymax=.75, color='blue')\n",
    "plt.hist(b, histtype='step', density=True, label='Store B', color='red', linewidth=3, alpha=.5, bins=30)\n",
    "plt.axvline(b_mean, ymax=.75, color='red')\n",
    "plt.hist(c, histtype='step', density=True, label='Store C', color='green', linewidth=3, alpha=.5, bins=30)\n",
    "plt.axvline(c_mean, ymax=.75, color='green')\n",
    "\n",
    "plt.title('3 samples. Are they from same population?')\n",
    "plt.xlabel('Sales from VeryAnts Stores')\n",
    "plt.ylabel('Frequency')\n",
    "plt.legend()\n",
    "\n",
    "plt.show()"
   ]
  },
  {
   "cell_type": "code",
   "execution_count": null,
   "metadata": {},
   "outputs": [],
   "source": []
  },
  {
   "cell_type": "code",
   "execution_count": 102,
   "metadata": {},
   "outputs": [
    {
     "name": "stdout",
     "output_type": "stream",
     "text": [
      "2.7667629398748514e-05 0.021012051698577176 0.059885635239664836\n"
     ]
    }
   ],
   "source": [
    "# Perform T-tests between pairs of samples\n",
    "a_b_tstat, a_b_pval = ttest_ind(a, b)\n",
    "a_c_tstat, a_c_pval = ttest_ind(a, c)\n",
    "b_c_tstat, b_c_pval = ttest_ind(b, c)\n",
    "print(a_b_pval, a_c_pval, b_c_pval)"
   ]
  },
  {
   "cell_type": "code",
   "execution_count": 113,
   "metadata": {},
   "outputs": [
    {
     "name": "stdout",
     "output_type": "stream",
     "text": [
      "0.1426250000000001\n"
     ]
    }
   ],
   "source": [
    "# Store the probability of error in a variable called error_prob.\n",
    "# Hint:For one t-test, the probability of making an error is 1-0.95. \n",
    "# For two t-tests, it is 1-0.95**2. what would it be for three t-tests?\n",
    "\n",
    "# There's a 95% chance that accepting the hypothesis is correct. If there are three\n",
    "# 3 samples where the hypothesis is accepted, there's a 0.95*0.95*0.95 chance \n",
    "# the conclusion is correct, or 1 -.95**3 that's the conclusion is wrong.\n",
    "\n",
    "error_prob = ( 1- 0.95**3)\n",
    "print(error_prob)"
   ]
  },
  {
   "cell_type": "markdown",
   "metadata": {},
   "source": [
    "### ANOVA\n",
    "In the last exercise, we saw that the probability of making a Type I error got dangerously high as we performed more t-tests.\n",
    "\n",
    "When comparing more than two numerical datasets, one way to preserve a Type I error probability of 0.05 is to use ANOVA. ANOVA (Analysis of Variance) tests the null hypothesis that all of the samples come from populations with the same mean. If we reject the null hypothesis with ANOVA, we’re saying that at least one pair of populations (from which the samples were drawn) have different means; however, we cannot determine exactly which pair(s).\n",
    "\n",
    "We can use the SciPy function f_oneway to perform ANOVA on multiple datasets. f_oneway takes in each dataset as a different input and returns the F-statistic and the p-value. For example, if we were comparing scores on a videogame between math majors, writing majors, and psychology majors, we could run an ANOVA test with this line:\n",
    "\n",
    "fstat, pval = f_oneway(scores_mathematicians, scores_writers, scores_psychologists)\n",
    "The null hypothesis, in this case, is that all three populations have the same mean score on this videogame. If we reject this null hypothesis (if we get a p-value less than 0.05), we can say that we are reasonably confident that at least one pair of populations is significantly different. After using only ANOVA, we can’t make any conclusions on which two populations have a significant difference."
   ]
  },
  {
   "cell_type": "code",
   "execution_count": 117,
   "metadata": {},
   "outputs": [
    {
     "name": "stdout",
     "output_type": "stream",
     "text": [
      "0.0001534116600777967\n",
      "There's a 100.0% chance that at least one of the samples has a different mean\n"
     ]
    }
   ],
   "source": [
    "# from scipy.stats import f_oneway\n",
    "\n",
    "fstat, pval = f_oneway(a, b, c)\n",
    "print(pval)\n",
    "if pval<=0.05:\n",
    "    print(f'There\\'s a {round(100-pval*100)}% chance that at least one of the samples has a different mean')\n",
    "else:\n",
    "    print(f'There\\'s ) {round(pval*100)}% chance the samples have the same mean')"
   ]
  },
  {
   "cell_type": "code",
   "execution_count": 120,
   "metadata": {},
   "outputs": [
    {
     "name": "stdout",
     "output_type": "stream",
     "text": [
      "58.34963608404818 148.35494018607827 62.36117318586781\n",
      "14.753704052338916 13.961928490770205 15.092458510897417\n",
      "pvalue: 8.49989098083282e-215\n",
      "There's a 100.0% chance that at least one of the samples has a different mean\n"
     ]
    }
   ],
   "source": [
    "# Change store_b's sample and rerun\n",
    "# The new sample results from a large increase in sales. This should decrease \n",
    "# the pvalue because the sample's even more unlike the other stores.\n",
    "\n",
    "a = np.genfromtxt(\"store_a.csv\",  delimiter=\",\")\n",
    "b = np.genfromtxt(\"store_b_new.csv\",  delimiter=\",\")\n",
    "c = np.genfromtxt(\"store_c.csv\",  delimiter=\",\")\n",
    "a_mean = np.mean(a)\n",
    "b_mean = np.mean(b)\n",
    "c_mean = np.mean(c)\n",
    "print(a_mean, b_mean, c_mean)\n",
    "a_std = np.std(a)\n",
    "b_std = np.std(b)\n",
    "c_std = np.std(c)\n",
    "print(a_std, b_std, c_std)\n",
    "fstat, pval = f_oneway(a, b, c)\n",
    "print(f'pvalue: {pval}')\n",
    "if pval<=0.05:\n",
    "    print(f'There\\'s a {round(100-pval*100)}% chance that at least one of the samples has a different mean')\n",
    "else:\n",
    "    print(f'There\\'s ) {round(pval*100)}% chance the samples have the same mean')"
   ]
  },
  {
   "cell_type": "markdown",
   "metadata": {},
   "source": [
    "### Assumptions of T-Tests and ANOVA\n",
    "Before we use one or two sample t-tests or ANOVA, we need to be sure that the following things are true:\n",
    "\n",
    "1. The sample(s) should be normally distributed…ish\n",
    "Data analysts in the real world often still perform t-tests or ANOVAs on data that are not normally distributed. This is usually not a problem if sample size is large, but it depends on how non-normal the data is. In general, the bigger the sample size, the safer you are!\n",
    "\n",
    "2. The standard deviations of the samples should be equal\n",
    "For ANOVA and 2-Sample T-Tests, using datasets with standard deviations that are significantly different from each other will often obscure the differences in group means. That said, there is also a way to run a 2-Sample T-Test without assuming equal standard deviations (for example, by setting the equal_var parameter in the scipy.stats.ttest_ind() function equal to False). Running the test in this way has some disadvantages (it essentially makes it harder to reject the null hypothesis even when there is a true difference between groups), so it’s important to check for equal standard deviations before running a test.\n",
    "\n",
    "To check this assumption, it is normally sufficient to divide the two standard deviations and see if the ratio is “close enough” to 1. “Close enough” may differ in different contexts but generally staying within 10% should suffice. This equates to a ratio between 0.9 and 1.1.\n",
    "\n",
    "3. The samples must be independent\n",
    "When comparing two or more datasets, the values in one distribution should not affect the values in another distribution. In other words, knowing more about one distribution should not give you any information about any other distribution.\n",
    "\n",
    "Here are some examples where it would seem the samples are not independent:\n",
    "\n",
    "- the number of goals scored per soccer player before, during, and after undergoing a rigorous training regimen\n",
    "- a group of patients’ blood pressure levels before, during, and after the administration of a drug\n",
    "\n",
    "It is important to understand your datasets before you begin conducting hypothesis tests on them so that you know you are choosing the right test."
   ]
  },
  {
   "cell_type": "code",
   "execution_count": 138,
   "metadata": {},
   "outputs": [
    {
     "data": {
      "image/png": "[encoded data removed]",
      "text/plain": [
       "<Figure size 864x288 with 1 Axes>"
      ]
     },
     "metadata": {
      "needs_background": "light"
     },
     "output_type": "display_data"
    }
   ],
   "source": [
    "def do(a):\n",
    "    m = np.mean(a)\n",
    "    s = np.std(a)\n",
    "    return [np.median(a), m, s, np.random.normal(m, s, 10000)]\n",
    "\n",
    "dist_1 = np.genfromtxt(\"1.csv\",  delimiter=\",\")\n",
    "[md1, m1, s1, norm1] = do(dist_1)\n",
    "\n",
    "dist_2 = np.genfromtxt(\"2.csv\",  delimiter=\",\")\n",
    "[md2, m2, s2, norm2] = do(dist_2)\n",
    "\n",
    "#plot your histogram here\n",
    "plt.figure(figsize=(12,4))\n",
    "\n",
    "plt.hist(dist_1, histtype='step', density=True, label='dist_1', color='blue', linewidth=3, alpha=.5, bins=30)\n",
    "plt.axvline(md1, ymax=.75, color='blue')\n",
    "plt.axvline(m1, ymax=.75, color='blue', linestyle='--')\n",
    "\n",
    "# plt.hist(norm1, histtype='step', density=True, label='norm_1', color='blue', alpha=.2, bins=1000)\n",
    "plt.hist(norm1, density=True, label='norm_1', color='blue', alpha=.2, bins=1000)\n",
    "\n",
    "plt.hist(dist_2, histtype='step', density=True, label='dist_2', color='red', linewidth=3, alpha=.5, bins=30)\n",
    "plt.axvline(md2, ymax=.75, color='red')\n",
    "plt.axvline(m2, ymax=.75, color='red', linestyle='--')\n",
    "\n",
    "# plt.hist(norm2, histtype='step', density=True, label='norm_1', color='red', alpha=.2, bins=1000)\n",
    "plt.hist(norm2, density=True, label='norm_1', color='red', alpha=.2, bins=1000)\n",
    "\n",
    "plt.title('Visually, the samples seem to be fairly normal')\n",
    "plt.xlabel('Count')\n",
    "plt.ylabel('Frequency')\n",
    "plt.legend()\n",
    "\n",
    "plt.show()\n",
    "\n"
   ]
  },
  {
   "cell_type": "code",
   "execution_count": 125,
   "metadata": {},
   "outputs": [
    {
     "name": "stdout",
     "output_type": "stream",
     "text": [
      "0.5814221080397466\n",
      "Ratio of std, 1.0, is NOT close enough for ANOVA to be used.\n"
     ]
    }
   ],
   "source": [
    "# Calculate the ratio of std deviations for the two samples. If they are in [.9, 1.1]\n",
    "# then ANOVA is reasonably used\n",
    "\n",
    "dist1Std = np.std(dist_1)\n",
    "dist2Std = np.std(dist_2)\n",
    "ratio = dist1Std/dist2Std\n",
    "print(ratio)\n",
    "if ratio>=.9 and ratio <=1.1:\n",
    "    print(f'Ratio of std, {round(ratio)}, is close enough for ANOVA to be used.')\n",
    "else:\n",
    "    print(f'Ratio of std, {round(ratio)}, is NOT close enough for ANOVA to be used.')\n"
   ]
  },
  {
   "cell_type": "markdown",
   "metadata": {},
   "source": [
    "### Tukey's Range Test\n",
    "Let’s say that we have performed ANOVA to compare three sets of data from the three VeryAnts stores. We received the result that there is some significant difference between datasets.\n",
    "\n",
    "Now, we have to find out which datasets are different.\n",
    "\n",
    "We can perform a Tukey’s Range Test to determine the difference between datasets.\n",
    "\n",
    "If we feed in three datasets, such as the sales at the VeryAnts store locations A, B, and C, Tukey’s Test can tell us which pairs of locations are distinguishable from each other.\n",
    "\n",
    "The function to perform Tukey’s Range Test is pairwise_tukeyhsd, which is found in statsmodel, not scipy. We have to provide the function with one list of all of the data and a list of labels that tell the function which elements of the list are from which set. We also provide the significance level we want, which is usually 0.05.\n",
    "\n",
    "For example, if we were looking to compare mean scores of movies that are dramas, comedies, or documentaries, we would make a call to pairwise_tukeyhsd like this:\n",
    "\n",
    "```\n",
    "movie_scores = np.concatenate([drama_scores, comedy_scores, documentary_scores])\n",
    "labels = ['drama'] * len(drama_scores) + ['comedy'] * len(comedy_scores) + ['documentary'] * len(documentary_scores)\n",
    "tukey_results = pairwise_tukeyhsd(movie_scores, labels, 0.05)\n",
    "```\n",
    "\n",
    "It will return a table of information, telling you whether or not to reject the null hypothesis for each pair of datasets."
   ]
  },
  {
   "cell_type": "code",
   "execution_count": 149,
   "metadata": {},
   "outputs": [
    {
     "name": "stdout",
     "output_type": "stream",
     "text": [
      "0.0001534116600777967\n",
      "Multiple Comparison of Means - Tukey HSD, FWER=0.05 \n",
      "====================================================\n",
      "group1 group2 meandiff p-adj   lower   upper  reject\n",
      "----------------------------------------------------\n",
      "     a      b   7.2767  0.001  3.2266 11.3267   True\n",
      "     a      c   4.0115 0.0529 -0.0385  8.0616  False\n",
      "     b      c  -3.2651 0.1411 -7.3152  0.7849  False\n",
      "----------------------------------------------------\n"
     ]
    }
   ],
   "source": [
    "from statsmodels.stats.multicomp import pairwise_tukeyhsd as tukey\n",
    "\n",
    "a = np.genfromtxt(\"store_a.csv\",  delimiter=\",\")\n",
    "b = np.genfromtxt(\"store_b.csv\",  delimiter=\",\")\n",
    "c = np.genfromtxt(\"store_c.csv\",  delimiter=\",\")\n",
    "\n",
    "stat, pval = f_oneway(a, b, c)\n",
    "print(pval)\n",
    "\n",
    "# Using our data from ANOVA, we create v and labels\n",
    "v = np.concatenate([a, b, c])\n",
    "labels = ['a'] * len(a) + ['b'] * len(b) + ['c'] * len(c)\n",
    "\n",
    "# tukey_results = pairwise_tukeyhsd(v, labels, 0.05)\n",
    "tukey_results = tukey(v, labels, 0.05)\n",
    "\n",
    "print(tukey_results)"
   ]
  },
  {
   "cell_type": "markdown",
   "metadata": {},
   "source": [
    "The test rejects hypotheses that a and b have same mean because p-adj<=0.05. The other two hypotheses, that a-c an b-c have the same mean is accepted because p-adj>0.05. "
   ]
  },
  {
   "cell_type": "markdown",
   "metadata": {},
   "source": [
    "### Binomial Test\n",
    "Let’s imagine that we are analyzing the percentage of customers who make a purchase after visiting a website. 1000 customers visited the site this month, and 58 of them made a purchase. The marketing department reports that historical data suggests about 72 of every 1000 visitors make a purchase. Thus, they estimate that the probability of any particular customer making a purchase is 7.2%. We would like to know if this month’s number, 58 purchases, is significantly different from normal or a reasonable fluctuation due to random chance.\n",
    "\n",
    "In previous exercises, we collected samples of numerical information (eg. order price) and then used the mean and standard deviation of those samples to make comparisons. In contrast, we now have a sample where each unit (a visitor) falls into one of two discrete categories:\n",
    "\n",
    "- “made a purchase”\n",
    "- “did not make a purchase”\n",
    "\n",
    "Instead of comparing sample means, we want to compare the percent in the “made a purchase” category to some expectation. This can be done with a Binomial Test. The binomial distribution describes the number of expected “successes” in an experiment with some number of “trials”. In this case, our experiment consists of 1000 people visiting the site. For each of those trials (visitors), we expect that there is a 7.2% chance of a purchase (success).\n",
    "\n",
    "SciPy has a function called binom_test(), which performs a Binomial Test for you. In this example, the null hypothesis is that the true probability of a purchase is 7.2%. The default alternative hypothesis for the binom_test() function in this example is that the true probability is not 7.2%.\n",
    "\n",
    "binom_test() requires three inputs, the number of observed successes, the number of total trials, and an expected probability of success. For example, with 1000 coin flips of a fair coin, we would expect a “success rate” (the rate of getting heads), to be 0.5, and the number of trials to be 1000. Let’s imagine we get 525 heads. Is the coin weighted? This function call would look like:\n",
    "\n",
    "pval = binom_test(525, n=1000, p=0.5)\n",
    "It returns a p-value, telling us how likely we are to observe at least this much deviation from expectation (> 525 heads or < 475 heads) given that the true probability of heads on any flip was 0.5 (meaning our expectation was 500 heads). If we get a p-value less than 0.05, we can reject the null hypothesis and say it is unlikely that the true probability of heads was 0.5 on each flip, suggesting that the coin is weighted."
   ]
  },
  {
   "cell_type": "markdown",
   "metadata": {},
   "source": [
    "Suppose the goal of VeryAnts’s marketing team this quarter was to have 6% of customers click a link that was emailed to them. They sent out a link to 10,000 customers and 510 clicked the link, which comes out to 5.1% instead of 6%. Did they do significantly worse than the target? Let’s use a binomial test to answer this question.\n",
    "\n",
    "Use SciPy’s binom_test function to calculate the p-value the experiment returns for this distribution, where we wanted the mean to be 6% of emails opened, or p=0.06, but only saw 5.1% of emails opened.\n",
    "\n",
    "Store the p-value in a variable called pval and print it out."
   ]
  },
  {
   "cell_type": "code",
   "execution_count": 160,
   "metadata": {},
   "outputs": [
    {
     "name": "stdout",
     "output_type": "stream",
     "text": [
      "pval: 0.00011592032724546606\n",
      "The sample has a low probability; 0.0001 so the mean is not likely 6% as hypothesized.\n"
     ]
    }
   ],
   "source": [
    "from scipy.stats import binom_test\n",
    "\n",
    "ntrial = 10000\n",
    "nsuccess = 510\n",
    "expectation = 0.06\n",
    "confidence = 0.05\n",
    "\n",
    "def do(n):\n",
    "    pval = binom_test(n, ntrial, expectation)\n",
    "    print('pval: {}'.format(pval))\n",
    "    if pval<=confidence:\n",
    "        print('The sample has a low probability; {} so the mean is not likely 6% as hypothesized.'.format(round(pval,4)))\n",
    "    else:\n",
    "        print('The sample is a random sample consistent with 6% mean')\n",
    "\n",
    "do(nsuccess)"
   ]
  },
  {
   "cell_type": "code",
   "execution_count": null,
   "metadata": {},
   "outputs": [],
   "source": [
    "# new tactic deployed that raised response to 5.9%. Was goal of 6% achieved?"
   ]
  },
  {
   "cell_type": "code",
   "execution_count": 161,
   "metadata": {},
   "outputs": [
    {
     "name": "stdout",
     "output_type": "stream",
     "text": [
      "pval: 0.6891529835730346\n",
      "The sample is a random sample consistent with 6% mean\n"
     ]
    }
   ],
   "source": [
    "nsuccess_new = 590\n",
    "do(nsuccess_new)"
   ]
  },
  {
   "cell_type": "markdown",
   "metadata": {},
   "source": [
    "### Chi Square Test\n",
    "In the last exercise, we looked at data where customers visited a website and either made a purchase or did not make a purchase. What if we also wanted to understand if the probability of making a purchase depends on some other categorical variable, like gender? If we want to understand whether the outcomes of two categorical variables are associated, we should use a Chi Square test. It is useful in situations like:\n",
    "\n",
    "- An A/B test where half of users were shown a green submit button and the other half were shown a purple submit button. Was one group more likely to click the submit button?\n",
    "- People under and over age 40 were given a survey asking “Which of the following three products is your favorite?” Did these age groups have significantly different preferences?\n",
    "\n",
    "In SciPy, you can use the function chi2_contingency to perform a Chi Square test.\n",
    "\n",
    "The input to chi2_contingency is a contingency table where:\n",
    "\n",
    "- The columns are each a different condition, such as Interface A vs. Interface B\n",
    "- The rows represent different outcomes, like “Clicked a Link” vs. “Didn’t Click”\n",
    "\n",
    "This table can have as many rows and columns as you need.\n",
    "\n",
    "Let’s return to the question of whether gender is associated with the probability of a website visitor making a purchase. The null hypothesis is that there’s no association between the variables (eg. males, females, and non-binary people are all equally likely to make a purchase on the website, so gender and purchase-status are not associated). If the p-value is below our chosen threshold (often 0.05), we reject the null hypothesis and can conclude there is a statistically significant association between the two variables (eg. men, women, and non-binary people appear to have different probabilities of making a purchase, so gender is associated with purchase-status).\n",
    "\n",
    "Problem\n",
    "1. The management at the VeryAnts ant store wants to know if their two most popular species of ants, the Leaf Cutter and the Harvester, vary in popularity between 1st, 2nd, and 3rd graders.\n",
    "\n",
    "We have created a table representing the different ants bought by the children in grades 1, 2, and 3 after the last big field trip to VeryAnts. Run the code to see what happens when we enter this table into SciPy’s chi-square test.\n",
    "\n",
    "Does the resulting p-value mean that we should reject or accept the null hypothesis?"
   ]
  },
  {
   "cell_type": "code",
   "execution_count": null,
   "metadata": {},
   "outputs": [],
   "source": [
    "from scipy.stats import chi2_contingency\n",
    "\n",
    "# Contingency table\n",
    "#         harvester |  leaf cutter\n",
    "# ----+------------------+------------\n",
    "# 1st gr | 30       |  10\n",
    "# 2nd gr | 35       |  5\n",
    "# 3rd gr | 28       |  12\n",
    "\n",
    "X = [[30, 10],\n",
    "     [35, 5],\n",
    "     [28, 12]]\n",
    "chi2, pval, dof, expected = chi2_contingency(X)\n",
    "print(f'pval : {pval}')\n",
    "if pval<=0.05:\n",
    "    print('The sample is consistent with hypothesis that the grades like ants differently')\n",
    "else:\n",
    "    print('The different grades like ants in the same way')\n"
   ]
  },
  {
   "cell_type": "markdown",
   "metadata": {},
   "source": [
    "A class of 40 4th graders comes into VeryAnts in the next week and buys 20 sets of Leaf Cutter ants and 20 sets of Harvester ants.\n",
    "\n",
    "Add this data to the contingency table, rerun the chi-square test, and see if there is now a low enough value to reject the null hypothesis."
   ]
  },
  {
   "cell_type": "code",
   "execution_count": 167,
   "metadata": {},
   "outputs": [
    {
     "name": "stdout",
     "output_type": "stream",
     "text": [
      "pval : 0.002812834559546625\n",
      "The sample is consistent with hypothesis that the grades like ants differently\n"
     ]
    }
   ],
   "source": [
    "X.append([20,20])\n",
    "chi2, pval, dof, expected = chi2_contingency(X)\n",
    "print(f'pval : {pval}')\n",
    "if pval<=0.05:\n",
    "    print('The sample is consistent with hypothesis that the grades like ants differently')\n",
    "else:\n",
    "    print('The different grades like ants in the same way')\n",
    "if pval<=0.05:\n",
    "    print('The sample is consistent with hypothesis that the grades like ants differently')\n",
    "else:\n",
    "    print('The different grades like ants in the same way')\n"
   ]
  },
  {
   "cell_type": "code",
   "execution_count": 169,
   "metadata": {},
   "outputs": [
    {
     "name": "stdout",
     "output_type": "stream",
     "text": [
      "0.7131385508098914\n"
     ]
    }
   ],
   "source": [
    "X = [[7,93], [5,99]]\n",
    "chi2, pval, dof, expected = chi2_contingency(X)\n",
    "print(pval)"
   ]
  },
  {
   "cell_type": "markdown",
   "metadata": {},
   "source": [
    "### Familiar: A Study In Data Analysis\n",
    "Welcome to Familiar, a startup in the new market of blood transfusion! You’ve joined the team because you appreciate the flexible hours and extremely intelligent team, but the overeager doorman welcoming you into the office is a nice way to start your workday (well, work-evening).\n",
    "\n",
    "Familiar has fallen into some tough times lately, so you’re hoping to help them make some insights about their product and help move the needle (so to speak).\n",
    "\n",
    "1. We’re going to start by including a data interface that a previous software engineer wrote for you, it’s aptly titled familiar, so just import that.\n",
    "\n",
    "2. Perfect, now the first thing we want to show is that our most basic package, the Vein Pack, actually has a significant impact on the subscribers. It would be a marketing goldmine if we can show that subscribers to the Vein Pack live longer than other people.\n",
    "\n",
    "Lifespans of Vein Pack users are returned by the function lifespans(package='vein'), which is part of the familiar module. Call that function and save the data into a variable called vein_pack_lifespans."
   ]
  },
  {
   "cell_type": "code",
   "execution_count": 187,
   "metadata": {},
   "outputs": [
    {
     "name": "stdout",
     "output_type": "stream",
     "text": [
      "76.16901335636044\n"
     ]
    }
   ],
   "source": [
    "import familiar\n",
    "\n",
    "vein_pack_lifespans = familiar.lifespans(package='vein')\n",
    "vein_mean = np.mean(vein_pack_lifespans)\n",
    "print(vein_mean)"
   ]
  },
  {
   "cell_type": "markdown",
   "metadata": {},
   "source": [
    "We’d like to find out if the average lifespan of a Vein Pack subscriber is significantly different from the average life expectancy of 71 years.\n",
    "\n",
    "Import the statistical test we would use to determine if a sample comes from a population that has a given mean from scipy.stats."
   ]
  },
  {
   "cell_type": "code",
   "execution_count": 188,
   "metadata": {},
   "outputs": [],
   "source": [
    "from scipy.stats import ttest_1samp\n",
    "avg_life_expectancy = 71\n",
    "vein_pack_test = ttest_1samp(vein_pack_lifespans, avg_life_expectancy)\n"
   ]
  },
  {
   "cell_type": "code",
   "execution_count": 181,
   "metadata": {},
   "outputs": [
    {
     "name": "stdout",
     "output_type": "stream",
     "text": [
      "pval : 2.7463117986584107e-10\n",
      "The Vein Pack Is Proven To Make You Live Longer!\n"
     ]
    }
   ],
   "source": [
    "pval = vein_pack_test[1]\n",
    "print(f'pval : {pval}')\n",
    "if pval<=0.05:\n",
    "    print('The Vein Pack Is Proven To Make You Live Longer!')\n",
    "else:\n",
    "        print('The Vein Pack Is Probably Good For You Somehow!')\n",
    "    \n",
    "    "
   ]
  },
  {
   "cell_type": "markdown",
   "metadata": {},
   "source": [
    "7. In order to differentiate Familiar’s different product lines, we’d like to compare this lifespan data between our different packages. Our next step up from the Vein Pack is the Artery Pack. Let’s get the lifespans of Artery Pack subscribers using the same method, called with package='artery' instead. Save the value into a variable called artery_pack_lifespans."
   ]
  },
  {
   "cell_type": "code",
   "execution_count": 189,
   "metadata": {},
   "outputs": [
    {
     "name": "stdout",
     "output_type": "stream",
     "text": [
      "Artery lifespan mean: 74.8736622351704\n"
     ]
    }
   ],
   "source": [
    "artery_pack_lifespans = familiar.lifespans(package='artery')\n",
    "artery_mean = np.mean(artery_pack_lifespans)\n",
    "print('Artery lifespan mean: {}'.format(artery_mean))"
   ]
  },
  {
   "cell_type": "markdown",
   "metadata": {},
   "source": [
    "8. Now we want to show that the subscribers to the Artery Pack experience a significant improvement even beyond what a Vein Pack subscriber’s benefits. Import the 2-Sample T-Test and we’ll use that to see if there is a significant difference between the two subscriptions."
   ]
  },
  {
   "cell_type": "code",
   "execution_count": 192,
   "metadata": {},
   "outputs": [
    {
     "name": "stdout",
     "output_type": "stream",
     "text": [
      "Vein lifespan: 76.16901335636044 Artery lifespan: 74.8736622351704\n",
      "Hypothesis: Vein and Artery lifespans are same. pval: 0.05588883079070819\n",
      "The evidence shows the 2 plans have same mean life expectancy\n"
     ]
    }
   ],
   "source": [
    "from scipy.stats import ttest_ind\n",
    "package_comparison_results = ttest_ind(vein_pack_lifespans, artery_pack_lifespans)\n",
    "pval = package_comparison_results[1]\n",
    "print('Vein lifespan: {} Artery lifespan: {}'.format(vein_mean, artery_mean))\n",
    "print('Hypothesis: Vein and Artery lifespans are same. pval: {}'.format(pval))\n",
    "\n",
    "if pval<=0.05:\n",
    "    print('Reject hypothesis because {} less than 0.05. Artery may be better'.format(pval))\n",
    "else:\n",
    "    print('The evidence shows the 2 plans have same mean life expectancy')"
   ]
  },
  {
   "cell_type": "markdown",
   "metadata": {},
   "source": [
    "12. If your lifespan isn’t significantly increased by signing up for the Artery Package, maybe we can make some other claim about the benefits of the package. To that end, we’ve sent out a survey collecting the iron counts for our subscribers, and filtered that data into “low”, “normal”, and “high”.\n",
    "\n",
    "We received 200 responses from our Vein Package subscribers. 70% of them had low iron counts, 20% had normal, and 10% of them have high iron counts.\n",
    "\n",
    "We were only able to get 145 responses from our Artery Package subscribers, but only 20% of them had low iron counts. 60% had normal, and 20% have high iron counts."
   ]
  },
  {
   "cell_type": "code",
   "execution_count": 198,
   "metadata": {},
   "outputs": [
    {
     "name": "stdout",
     "output_type": "stream",
     "text": [
      "[[140, 29], [40, 87], [20, 29]]\n",
      "1.5653909587039126e-21\n",
      "The Artery Package Is Proven To Make You Healthier!\n"
     ]
    }
   ],
   "source": [
    "iron_contingency_table = familiar.iron_counts_for_package()\n",
    "print(iron_contingency_table)\n",
    "chi2, iron_pval, dof, expected = chi2_contingency(X)\n",
    "print(iron_pval)\n",
    "if iron_pval<=0.05:\n",
    "    print('The Artery Package Is Proven To Make You Healthier!')\n",
    "else:\n",
    "    print('While We Can\\'t Say The Artery Package Will Help You, I Bet It\\'s Nice')\n",
    "\n"
   ]
  },
  {
   "cell_type": "markdown",
   "metadata": {},
   "source": [
    "### FetchMaker\n",
    "Congratulations! You’ve just started working at the hottest new tech startup, FetchMaker. FetchMaker’s mission is to match up prospective dog owners with their perfect pet. Data on thousands of adoptable dogs are in FetchMaker’s system, and it’s your job to analyze some of that data.\n"
   ]
  },
  {
   "cell_type": "code",
   "execution_count": 201,
   "metadata": {},
   "outputs": [],
   "source": [
    "import fetchmaker   # need to copy fetchmaker.py and dog_data.csv\n"
   ]
  },
  {
   "cell_type": "markdown",
   "metadata": {},
   "source": [
    "2. The attributes that FetchMaker keeps track of are:\n",
    "- weight, an integer representing how heavy a dog is in pounds\n",
    "- tail_length, a float representing tail length in inches\n",
    "- age, in years\n",
    "- color, a String such as \"brown\" or \"grey\"\n",
    "- is_rescue, a boolean 0 or 1\n",
    "\n",
    "The fetchmaker package lets you access this data for a specific breed of dog with the following format:\n",
    "\n",
    "```fetchmaker.get_weight(\"poodle\")```\n",
    "\n",
    "This returns a Pandas DataFrame of the weights of the poodles recorded in the system. The other methods are get_tail_length, get_color, get_age, and get_is_rescue, which all take a breed as an input.\n",
    "\n",
    "Get the tail lengths of all of the \"rottweiler\"s in the system, and store it in a variable called rottweiler_tl."
   ]
  },
  {
   "cell_type": "code",
   "execution_count": 206,
   "metadata": {
    "collapsed": true
   },
   "outputs": [
    {
     "data": {
      "text/plain": [
       "400    3.13\n",
       "401    3.32\n",
       "402    1.16\n",
       "403    2.23\n",
       "404    8.86\n",
       "       ... \n",
       "495    3.28\n",
       "496    5.50\n",
       "497    2.95\n",
       "498    4.64\n",
       "499    3.39\n",
       "Name: tail_length, Length: 100, dtype: float64"
      ]
     },
     "execution_count": 206,
     "metadata": {},
     "output_type": "execute_result"
    }
   ],
   "source": [
    "#2.\n",
    "rottweiler_tl = fetchmaker.get_tail_length('rottweiler')\n",
    "rottweiler_tl"
   ]
  },
  {
   "cell_type": "code",
   "execution_count": 207,
   "metadata": {},
   "outputs": [
    {
     "name": "stdout",
     "output_type": "stream",
     "text": [
      "4.2361 2.0647536874891395\n"
     ]
    }
   ],
   "source": [
    "# 3.\n",
    "rottweiler_mean = np.mean(rottweiler_tl)\n",
    "rottweiler_std  = np.std(rottweiler_tl)\n",
    "print(rottweiler_mean, rottweiler_std)"
   ]
  },
  {
   "cell_type": "markdown",
   "metadata": {},
   "source": [
    "4. Over the years, we have seen that we expect 8% of dogs in the FetchMaker system to be rescues. We want to know if whippets are significantly more or less likely to be a rescue.\n",
    "\n",
    "Store the is_rescue values for \"whippet\"s in a variable called whippet_rescue."
   ]
  },
  {
   "cell_type": "code",
   "execution_count": 213,
   "metadata": {
    "collapsed": true
   },
   "outputs": [
    {
     "data": {
      "text/plain": [
       "700    0\n",
       "701    0\n",
       "702    0\n",
       "703    0\n",
       "704    0\n",
       "      ..\n",
       "795    0\n",
       "796    0\n",
       "797    0\n",
       "798    0\n",
       "799    0\n",
       "Name: is_rescue, Length: 100, dtype: int64"
      ]
     },
     "execution_count": 213,
     "metadata": {},
     "output_type": "execute_result"
    }
   ],
   "source": [
    "# 4.\n",
    "whippet_rescue = fetchmaker.get_is_rescue('whippet')\n"
   ]
  },
  {
   "cell_type": "code",
   "execution_count": 217,
   "metadata": {},
   "outputs": [
    {
     "name": "stdout",
     "output_type": "stream",
     "text": [
      "6\n",
      "100\n"
     ]
    }
   ],
   "source": [
    "# 5. \n",
    "num_whippet_rescues = np.count_nonzero(whippet_rescue)\n",
    "print(num_whippet_rescues)\n",
    "# 6.\n",
    "num_whippets = np.size(whippet_rescue)\n",
    "print(num_whippets)"
   ]
  },
  {
   "cell_type": "markdown",
   "metadata": {},
   "source": [
    "7. Use a binomial test to test the number of whippet rescues, num_whippet_rescues, against our expected percentage, 8%."
   ]
  },
  {
   "cell_type": "code",
   "execution_count": 220,
   "metadata": {},
   "outputs": [
    {
     "name": "stdout",
     "output_type": "stream",
     "text": [
      "whippet rescue pval: 0.845501006093798\n",
      "Current sample is consistent with hypothesis that 7% of whippets are rescues\n"
     ]
    }
   ],
   "source": [
    "# 7.\n",
    "from scipy.stats import binom_test\n",
    "pval = binom_test(num_whippet_rescues, num_whippets, 0.07)\n",
    "print('whippet rescue pval: {}'.format(pval))\n",
    "# 8.\n",
    "if pval<=0.05:\n",
    "    print('Reject hypothesis that 7% of whippets are rescues')\n",
    "else:\n",
    "    print('Current sample is consistent with hypothesis that 7% of whippets are rescues')"
   ]
  },
  {
   "cell_type": "markdown",
   "metadata": {},
   "source": [
    "9. Three of our most popular mid-sized dog breeds are whippets, terriers, and pitbulls. Is there a significant difference in the average weights of these three dog breeds? Perform a comparative numerical test to determine if there is a significant difference"
   ]
  },
  {
   "cell_type": "code",
   "execution_count": 222,
   "metadata": {},
   "outputs": [
    {
     "name": "stdout",
     "output_type": "stream",
     "text": [
      "pvalue: 3.276415588274815e-17\n",
      "There's a 100.0% chance that at least one of the samples has a different mean\n"
     ]
    }
   ],
   "source": [
    "# 9.\n",
    "whippet_weight = fetchmaker.get_weight('whippet')\n",
    "terrier_weight = fetchmaker.get_weight('terrier')\n",
    "pitbull_weight = fetchmaker.get_weight('pitbull')\n",
    "fstat, pval = f_oneway(whippet_weight, terrier_weight, pitbull_weight)\n",
    "print('pvalue: {}'.format(pval))\n",
    "if pval<=0.05:\n",
    "    print('There\\'s a {}% chance that at least one of the samples has a different mean'.format(round(100-pval*100)))\n",
    "else:\n",
    "    print('There\\'s a {}% chance the samples have the same mean'.format(round(pval*100)))\n"
   ]
  },
  {
   "cell_type": "code",
   "execution_count": 224,
   "metadata": {},
   "outputs": [
    {
     "name": "stdout",
     "output_type": "stream",
     "text": [
      "        Multiple Comparison of Means - Tukey HSD, FWER=0.05        \n",
      "===================================================================\n",
      "    group1         group2     meandiff p-adj   lower  upper  reject\n",
      "-------------------------------------------------------------------\n",
      "pitbull_weight terrier_weight   -13.24  0.001 -16.728 -9.752   True\n",
      "pitbull_weight whippet_weight    -3.34 0.0639  -6.828  0.148  False\n",
      "terrier_weight whippet_weight      9.9  0.001   6.412 13.388   True\n",
      "-------------------------------------------------------------------\n"
     ]
    }
   ],
   "source": [
    "# 10. Which pair is different?\n",
    "\n",
    "# Concatenate arrays with weights\n",
    "dog_weights = np.concatenate([whippet_weight, terrier_weight, pitbull_weight])\n",
    "labels = ['whippet_weight']*len(whippet_weight) \\\n",
    "+ ['terrier_weight']*len(terrier_weight) \\\n",
    "+ ['pitbull_weight']*len(pitbull_weight)\n",
    "\n",
    "tukey_results = pairwise_tukeyhsd(dog_weights, labels, 0.05)\n",
    "print(tukey_results)\n"
   ]
  },
  {
   "cell_type": "markdown",
   "metadata": {},
   "source": [
    "The Tukey results show that the only two that may be the same weight is pitbull-whippet. The other combos work and have the terrier in common. It must be the dog that is different than the others. \n",
    "\n",
    "Maybe we should compare hists? It's pretty clear that the terrier is around 10 lbs light than the other two dogs. Very few are as heavy as the lightest pitbulls and whippets"
   ]
  },
  {
   "cell_type": "code",
   "execution_count": 229,
   "metadata": {},
   "outputs": [
    {
     "data": {
      "image/png": "[encoded data removed]",
      "text/plain": [
       "<Figure size 864x288 with 1 Axes>"
      ]
     },
     "metadata": {
      "needs_background": "light"
     },
     "output_type": "display_data"
    }
   ],
   "source": [
    "#plot weight histogram here\n",
    "plt.figure(figsize=(12,4))\n",
    "\n",
    "plt.hist(whippet_weight, histtype='step', density=True, label='whippet', color='blue', linewidth=3, alpha=.5, bins=30)\n",
    "plt.axvline(np.mean(whippet_weight), ymax=.75, color='blue')\n",
    "\n",
    "# plt.hist(norm1, histtype='step', density=True, label='norm_1', color='blue', alpha=.2, bins=1000)\n",
    "# plt.hist(norm1, density=True, label='norm_1', color='blue', alpha=.2, bins=1000)\n",
    "\n",
    "plt.hist(terrier_weight, histtype='step', density=True, label='terrier', color='red', linewidth=3, alpha=.5, bins=30)\n",
    "plt.axvline(np.mean(terrier_weight), ymax=.75, color='red')\n",
    "\n",
    "# plt.hist(norm2, histtype='step', density=True, label='norm_1', color='red', alpha=.2, bins=1000)\n",
    "# plt.hist(norm2, density=True, label='norm_1', color='red', alpha=.2, bins=1000)\n",
    "\n",
    "plt.hist(pitbull_weight, histtype='step', density=True, label='pitbull', color='green', linewidth=3, alpha=.5, bins=30)\n",
    "plt.axvline(np.mean(pitbull_weight), ymax=.75, color='green')\n",
    "\n",
    "plt.title('Compare dog weight distribution')\n",
    "plt.xlabel('Weight')\n",
    "plt.ylabel('Frequency')\n",
    "plt.legend()\n",
    "\n",
    "plt.show()\n"
   ]
  },
  {
   "cell_type": "code",
   "execution_count": 230,
   "metadata": {
    "collapsed": true
   },
   "outputs": [
    {
     "data": {
      "text/plain": [
       "300    black\n",
       "301    black\n",
       "302    black\n",
       "303    black\n",
       "304    black\n",
       "       ...  \n",
       "395    white\n",
       "396    white\n",
       "397    white\n",
       "398    white\n",
       "399    white\n",
       "Name: color, Length: 100, dtype: object"
      ]
     },
     "execution_count": 230,
     "metadata": {},
     "output_type": "execute_result"
    }
   ],
   "source": [
    "# 11. Dog colors\n",
    "poodle_colors = fetchmaker.get_color('poodle')\n",
    "shihtzu_colors = fetchmaker.get_color('shihtzu')\n",
    "poodle_colors"
   ]
  },
  {
   "cell_type": "code",
   "execution_count": 234,
   "metadata": {},
   "outputs": [
    {
     "name": "stdout",
     "output_type": "stream",
     "text": [
      "[[17, 13, 8, 52], [10, 36, 6, 41]]\n"
     ]
    }
   ],
   "source": [
    "# 12 Count brown poodles\n",
    "colors = ['black', 'brown', 'gold', 'grey']\n",
    "f = lambda x: [np.count_nonzero(x == c) for c in colors]\n",
    "color_table = [f(poodle_colors), f(shihtzu_colors)] \n",
    "print(color_table)\n",
    "\n",
    "                            "
   ]
  },
  {
   "cell_type": "code",
   "execution_count": 236,
   "metadata": {},
   "outputs": [
    {
     "name": "stdout",
     "output_type": "stream",
     "text": [
      "pval: 0.002705203652485496\n"
     ]
    }
   ],
   "source": [
    "chi2, pval, dof, expected = chi2_contingency(color_table)\n",
    "print('pval: {}'.format(pval))"
   ]
  },
  {
   "cell_type": "code",
   "execution_count": 237,
   "metadata": {},
   "outputs": [
    {
     "name": "stdout",
     "output_type": "stream",
     "text": [
      "Reject hypothesis that Poodles and Shihtzus have the same distribution of colors\n"
     ]
    }
   ],
   "source": [
    "if pval<=0.05:\n",
    "    print('Reject hypothesis that Poodles and Shihtzus have the same distribution of colors')\n",
    "else:\n",
    "    print('Poodles and SHitzus have the same variation of colors')"
   ]
  },
  {
   "cell_type": "markdown",
   "metadata": {},
   "source": [
    "### Introduction to Sample Size and A/B Testing\n",
    "One of the first steps to designing a successful experiment is determining the number of samples that you need in order to have confidence in the results. We don’t want to go through the trouble of running an A/B test or administering a survey only to discover that we don’t have enough information to make a good decision.\n",
    "\n",
    "For instance, if we asked 5 people who they were voting for in an election, that small sample size would not be sufficient to predict the election results.\n",
    "\n",
    "In this lesson we’ll cover two common types of experiment and their methods of sample size determination:\n",
    "\n",
    "A/B Tests\n",
    "Surveys\n",
    "Online sample size calculators are available for both of these scenarios. These calculators will require quantities like “baseline conversion rate” or “population size”, but it’s not always obvious what these should be for a specific experiment. We’ll be covering that and more in this lesson."
   ]
  },
  {
   "cell_type": "markdown",
   "metadata": {},
   "source": [
    "1. We’ve included an A/B testing sample size calculator in the workspace. Can you find out what the sample size would be to detect at least a 30% increase from a 20% baseline with 90% statistical significance? Save the results in the variable called sample_size.\n",
    "\n",
    "I couldn't guess what they meant. The calculator allows you to adjust basline conversion rate, statistical significance and minimum detectable effect.\n",
    "\n",
    "I set statistical significance = 90%. Easy.\n",
    "Baseline conversion rate is the rate at people who arrive at a web site participate as desired. In this case it is the starting position 20%. \n",
    "The 3rd thing to change is the minimum detectable effect. A 30% increase from a 20% baseline can be interpreted several ways. 1) an increase to 30% from 20% 2) an increase to 130% of baseline 3) Or (NewBaseline-Baseline)/Baseline = 30%  \n",
    "\n",
    "Turns out 1) was the desired answer since the desired sample size was 760.\n"
   ]
  },
  {
   "cell_type": "markdown",
   "metadata": {},
   "source": [
    "### A/B Testing: Understanding the Baseline\n",
    "A/B tests compare an option that we’re currently using to a new option that we suspect might be better. In order to compare the two options, we need a metric. Generally, our metric will be the percent of users who take a certain action after interacting with one of our options. For instance:\n",
    "\n",
    "- The percent of customers who buy a t-shirt after visiting one of two versions of a website\n",
    "- The percent of users who click on one of two versions of an ad\n",
    "- The percent of readers who open an email with one of two subject lines\n",
    "\n",
    "In order to calculate the sample size for our A/B test, we need to know whether we expect our metric to be low or high. It will take more samples to be able to spot a difference when our metric is extremely low or extremely high. Our initial estimate of our metric is called a baseline.\n",
    "\n",
    "We can usually calculate a baseline by looking at historical data for the option that we’re currently using."
   ]
  },
  {
   "cell_type": "code",
   "execution_count": 240,
   "metadata": {},
   "outputs": [
    {
     "name": "stdout",
     "output_type": "stream",
     "text": [
      "conversion_rate is 0.65\n"
     ]
    }
   ],
   "source": [
    "# Find the size of both of these lists\n",
    "number_of_site_visitors = 2000.0\n",
    "number_of_converted_visitors = 1300.0\n",
    "\n",
    "# Calculate the conversion rate in terms of the above two variables here\n",
    "\n",
    "conversion_rate = number_of_converted_visitors/number_of_site_visitors\n",
    "print(f'conversion_rate is {conversion_rate}')"
   ]
  },
  {
   "cell_type": "markdown",
   "metadata": {},
   "source": [
    "### A/B Testing: Determining Lift\n",
    "We’re running an A/B Test in order to know if Option B is better than Option A but if Option B were only a tiny percent better, would we really care? In order to detect precise differences, we need a very large sample size. In order to choose a sample size, we need to know the smallest difference that we actually care to measure. This “smallest difference” is called lift.\n",
    "\n",
    "Lift is generally expressed as a percent of the baseline conversion rate. Suppose that 6% of our customers currently buy socks on our website Sock Hops (that’s our baseline conversion rate). We think that a new website layout would increase this. Changing a website layout is hard, so we only think that it’s worth doing if at least 8% of our customers would buy socks on Sock Hops with the new layout. That means that we want to increase our conversions by 2%. "
   ]
  },
  {
   "cell_type": "markdown",
   "metadata": {},
   "source": [
    "Lift = 100* (new_conversion_rate - old_conversion_rate_before)/old_conversion_rate\n",
    "\n",
    "1. From 8%, calculate what lift you would need to get to 12%. Save that number into a variable called lift_eight_percent_to_twelve_percent."
   ]
  },
  {
   "cell_type": "code",
   "execution_count": 241,
   "metadata": {},
   "outputs": [
    {
     "name": "stdout",
     "output_type": "stream",
     "text": [
      "50.0\n"
     ]
    }
   ],
   "source": [
    "lift = lambda old,new: 100*(new-old)/old\n",
    "\n",
    "lift_eight_percent_to_twelve_percent = lift(8., 12.)\n",
    "print(lift_eight_percent_to_twelve_percent)"
   ]
  },
  {
   "cell_type": "markdown",
   "metadata": {},
   "source": [
    "From 10%, calculate what a 50% increase would be. Save that number into a variable called ten_percent_up_fifty_percent."
   ]
  },
  {
   "cell_type": "code",
   "execution_count": 242,
   "metadata": {},
   "outputs": [
    {
     "name": "stdout",
     "output_type": "stream",
     "text": [
      "15.0\n"
     ]
    }
   ],
   "source": [
    "ten_percent_up_fifty_percent = 15.\n",
    "print(ten_percent_up_fifty_percent)"
   ]
  },
  {
   "cell_type": "markdown",
   "metadata": {},
   "source": [
    "### A/B Testing: Don't Interfere With Your Tests\n",
    "Brian the Product Manager has been running an A/B Test for a redesign of Viral Villanelle’s landing page. Brian used the principles in the Sample Size Determination course on Codecademy to calculate a sample size. He needs 1,100 users to view each variant of the landing page in order to be able to detect his desired lift. When he reaches a total of 2,200 visits to both variants, he runs a Chi-Square test. The new website design performs slightly better, but the results are not statistically significant. Brian decides to run the test for another week to see if he can get to significance. He really wants to launch the redesigned website and he needs statistical validation to show to his boss.\n",
    "\n",
    "Brian has made a big mistake! By choosing to extend the A/B test past the sample size he needs, he introduces personal bias to the results of the test.\n",
    "\n",
    "If the results had already been significant, he wouldn’t have run the test any longer. If he continues this pattern of preferentially extending the test when he wants a different answer, he will be more likely to get the results he wants, regardless if these desired results reflect reality.\n",
    "\n",
    "It’s sad, but Brian will need to accept that the redesigned website isn’t significantly better than the original website.\n",
    "\n",
    "Here are two important rules for making sure that A/B tests remain unbiased:\n",
    "\n",
    "- Don’t continue to run the test after the predetermined sample size, until “significant” results are found.\n",
    "- Don’t stop a test before reaching the predetermined sample size, just because your results reach significance early (unless there are ethical reasons that require you to stop, like a prescription drug trial).\n",
    "\n",
    "Test data is sensitive to changes in sample size, which is why it is important to calculate beforehand."
   ]
  },
  {
   "cell_type": "markdown",
   "metadata": {},
   "source": [
    "Inspect the graph in the workspace. It shows an A/B Test where the baseline was 5%, and we want to see a lift of 50% (i.e., we want our second option to have at least a 7.5% conversion rate). A sample size calculator tells us that we need 210 samples. The chart shows the cumulative conversion rate after each new sample. When we reach our desired 210 samples, our cumulative conversion rate is slightly higher than 5%, but the difference is not significantly different (indicated by red). By extending the experiment to 320 samples, the difference becomes significantly different (indicated by green). We might conclude that our results are significant if we stopped the experiment at this point. However, we can see this is a temporary fluctuation. After this brief moment of “significance” the conversion rate decreases and our results become insignificant again. By arbitrarily extending the study until it reaches significance, we fool ourselves!\n",
    "\n",
    "Try this: Flip a coin five times. Which side came up more frequently? Perhaps you now suspect that the coin is biased. Keep flipping the coin until that side shows up even more frequently. By changing your sample size in the middle of an experiment, you can easily convince yourself that a fair coin is biased."
   ]
  },
  {
   "cell_type": "markdown",
   "metadata": {},
   "source": [
    "Is this because with more sampling the chance of seeing a rare event increases. For example, flipping a coin. 6 heads in a row is an event withpval<=0.05, evidence to reject hypothesis that a coin id unfair. It will occur eventually of the expt is continued, entering the 5% unlikely zone."
   ]
  },
  {
   "cell_type": "markdown",
   "metadata": {},
   "source": [
    "### A/B Testing: Splitting a Test\n",
    "Viral Villanelle’s social media presence drives visits to its website. Product Manager Brian wants to test a new ad. Using a sample size calculator, he finds that he will need a sample size of 1,100. Viral Villanelle’s current advertisement is shown to 500 users per day. What’s the best way for Brian to get his desired sample size?\n",
    "\n",
    "It’s important to remember that Brian will need to show both the old and the new ad to 1,100 users each. If Brian wants to complete this test as quickly as possible, he could randomly divide users into two groups: half of users would see the old ad and half would see the new ad. It would take a little more than 4 days for 2,200 users to see one of the two ads.\n",
    "\n",
    "What if Brian doesn’t want to divide Viral Villanelle’s audience evenly? If Brian is running many different types of A/B tests, he might not want to expose users to a barrage of different tests. Maybe only 10% of users should be shown the new ad, in case it performs terribly. By doing this, he would only be getting 50 users per day towards the 1,100 users that need to see the new ad. In this case, he would need to wait for 22 days (1100 / 50 = 22) in order to get his results, even though he would have gotten the 1,100 views for the old ad 3 days into the experiment.\n",
    "\n",
    "For his final analysis, Brian should use all of the data from the 22 days. The Chi-Square test will correctly take into account that there is more data from the original ad than from the new ad.\n",
    "\n",
    "1. Here at the Viral Villanelle, we found an amazing video of a hamster that appears to be rapping along to a chart-topping hip-hop song from 1979. We’ve been running it under the headline This Hamster Gets On The Microphone And What Happens Next Will Amaze You. This is reliably seen by 350 users daily. We are curious to see if our new headline Hamster’s Delight: Watch This Fuzzy Friend’s Rhythm To The Boogie (The Beat) will perform much better.\n",
    "\n",
    "There are concerns that this new headline will alienate the jaded millennial generation so we would like to hedge our bets in case our new version performs poorly. If we only show 20% of our users the new headline, how many days will it take for us to get a sample size of at least 910 for each headline? Save your results in the variable called hamster_headline_experiment_length."
   ]
  },
  {
   "cell_type": "markdown",
   "metadata": {},
   "source": [
    "### Margin of Error\n",
    "What does it mean to have “enough” people for a survey? Generally, we are making sure that our results are within a margin of error of the correct answer.\n",
    "\n",
    "The margin of error is the furthest we expect the true value to be from what we measure in our survey. For example, let’s say we choose a margin of error of 4%. If we get results showing 40% of people love beets the most, we can be confident that the true proportion in the population lies somewhere between 36% and 44%. Thus, the smaller we make the margin of error, the more certainty we have in the results. The larger we make the margin of error, more uncertain we are that they represent the views of the total population.\n",
    "\n",
    "In order to make our margin of error smaller, we will need a larger sample size.\n",
    "\n",
    "### Population Size\n",
    "Our sample should accurately represent the population as a whole. So, when we are dealing with a larger population, we should probably be sampling more people.\n",
    "\n",
    "It is sometimes tricky to determine what the effective population size is. For example, suppose there are 200 people who currently visit BeetsMe regularly. Is 200 the population size for our vegetable survey?\n",
    "\n",
    "If BeetsMe wants to appeal to the tourists that frequently visit Vancucumber, or if they ever want to launch an online store to ship healthy treats all over the world, the real population size is closer to 8 billion (or infinity, really, if we think about the number of humans who could eventually exist and have vegetable preferences). So, for experiments like this, we use the highest population size we can. Normally, 100,000 will suffice, as changes become negligible beyond that.\n",
    "\n",
    "Often, for decisions that require extrapolation to an unknown customer base, it is important to understand the preferences of a typical person out in the world, whether or not they are part of your customer base right now. Generally, we use this larger population size of 100,000 or greater instead of focusing on the amount of current customers.\n",
    "\n",
    "However, if the small town of Vancucumber is holding an election for a new mayor, and we want to project the results of the election, then the 1700 citizens would be the only important people. In this case, 1700 is the population size we would use in a sample size calculator."
   ]
  },
  {
   "cell_type": "markdown",
   "metadata": {},
   "source": [
    "1. You have a subscription service called Flow-etry, which sends customers a recording of a random poem being read rhythmically over a random beat once per day. There have been 100 cancellations in the past month, and 96 of them have answered a cancellation survey.\n",
    "\n",
    "If you are conducting a survey about reasons for cancellation, what is a good choice for population size? Store your answer in a variable called flow_population."
   ]
  },
  {
   "cell_type": "code",
   "execution_count": null,
   "metadata": {},
   "outputs": [],
   "source": [
    "# Potential customers are much larger thN THE NUMBER OF CANCELLATIONS. aT 100000 the results havr converged.\n",
    "flow_population = 100000"
   ]
  },
  {
   "cell_type": "markdown",
   "metadata": {},
   "source": [
    "2. You are doing a company-wide survey to determine what the team-bonding outing should be for this quarter. The options are laser tag, bowling, and karaoke. The company has 643 employees.\n",
    "\n",
    "What is the population size for this survey? Store your answer in a variable called outing_pop."
   ]
  },
  {
   "cell_type": "code",
   "execution_count": null,
   "metadata": {},
   "outputs": [],
   "source": [
    "# In this case there can pnly be 643 people invovled. If someone leave then it will get smaller.\n",
    "\n",
    "outing_pop = 643"
   ]
  },
  {
   "cell_type": "markdown",
   "metadata": {},
   "source": [
    "### Likely Sample Proportion\n",
    "Often, before we conduct a survey, we have a guess of what we expect the results to be. This guess could be based upon the results from a previous survey, or perhaps the results of a small pilot study before the real study.\n",
    "\n",
    "As the expected proportion of people with the desired trait decreases, we can survey fewer people. For example, if we are projecting election results and Candidate C has 1% of the voter base, taking a small sample of only 5 people might be fine, because it is very likely that no one we have chosen is voting for Candidate C. This is close enough to the true proportion.\n",
    "\n",
    "As the expected proportion increases, it is rarer that we hit that proportion accurately with the random sample we choose.\n",
    "\n",
    "If we do not have historical data, we normally use 50%, which gives the most conservative (i.e., largest required) sample size.\n",
    "\n",
    "### Likely Sample Proportion\n",
    "Often, before we conduct a survey, we have a guess of what we expect the results to be. This guess could be based upon the results from a previous survey, or perhaps the results of a small pilot study before the real study.\n",
    "\n",
    "As the expected proportion of people with the desired trait decreases, we can survey fewer people. For example, if we are projecting election results and Candidate C has 1% of the voter base, taking a small sample of only 5 people might be fine, because it is very likely that no one we have chosen is voting for Candidate C. This is close enough to the true proportion.\n",
    "\n",
    "As the expected proportion increases, it is rarer that we hit that proportion accurately with the random sample we choose.\n",
    "\n",
    "If we do not have historical data, we normally use 50%, which gives the most conservative (i.e., largest required) sample size.\n",
    "\n",
    "### Sample Size of a Survey\n",
    "Once we determine appropriate values for the margin of error, confidence level, population size, and expected proportion values for our experiment, we can use a sample size calculator to determine the minimum sample size we need to survey to get the desired confidence in our answer.\n",
    "\n",
    "Let’s put together what we’ve learned so far and determine the appropriate sample size for BeetsMe’s vegetable survey."
   ]
  },
  {
   "cell_type": "markdown",
   "metadata": {},
   "source": [
    "1. We are now conducting the survey to see if beets are the best vegetable to choose as a base for our new juice. Our product manager tells us that we want to be within 4% of the correct answer, with a 95% confidence level.\n",
    "\n",
    "The town of Vancucumber is made up of 1700 people. We estimate that 40% of people think that the beet is the best vegetable.\n",
    "\n",
    "Create variables margin_of_error, confidence_level, likely_proportion, and population_size. Store the values that will give you the most conservative sample size for this survey. For the percentages, use integers (e.g. 70% becomes 70)."
   ]
  },
  {
   "cell_type": "code",
   "execution_count": 2,
   "metadata": {},
   "outputs": [],
   "source": [
    "margin_of_error = 4\n",
    "confidence_level = 95\n",
    "likely_proportion = 40\n",
    "population_size = 100000  # We're still interested in wordwide sales, not just the towm"
   ]
  },
  {
   "cell_type": "markdown",
   "metadata": {},
   "source": [
    "2. Enter the values you decided on for margin of error, confidence level, population size, and likely population proportion into the sample size calculator. What sample size do we need?\n",
    "\n",
    "Store your answer in a variable called sample_size\n"
   ]
  },
  {
   "cell_type": "code",
   "execution_count": 3,
   "metadata": {},
   "outputs": [],
   "source": [
    "# put the values in above panel and this is what the calculator said\n",
    "sample_size = 573"
   ]
  },
  {
   "cell_type": "markdown",
   "metadata": {},
   "source": [
    "3. You know that you get 600 customers into BeetsMe per week. We estimate that 20% (or 120) of them will answer the written survey that we hand them with their receipt. How many weeks will it take to get the appropriate number of survey responses?"
   ]
  },
  {
   "cell_type": "code",
   "execution_count": 5,
   "metadata": {},
   "outputs": [
    {
     "name": "stdout",
     "output_type": "stream",
     "text": [
      "5.0\n"
     ]
    }
   ],
   "source": [
    "nPeopleFillSurveyPerWeek = sample_size * 0.2\n",
    "weeks_of_survey = sample_size / nPeopleFillSurveyPerWeek\n",
    "print(weeks_of_survey)"
   ]
  },
  {
   "cell_type": "markdown",
   "metadata": {},
   "source": [
    "### Differing Survey Results\n",
    "Suppose we are going to survey a group of high school students to see what programming language they want to learn. In the survey, we give the students two choices: JavaScript or Python. This seems like a problem where we would use a Sample Size Survey Calculator.\n",
    "\n",
    "But what if we don’t care about getting a specific margin of error? What if instead, we want to make a comparison: Are girls more likely to want to learn Python than boys are?\n",
    "\n",
    "This survey is more similar to an A/B Test. Our baseline is the approximate percent of the population who want to learn Python, and our lift is the minimum difference between boys and girls that we want to be able to detect.\n",
    "\n",
    "Whenever we want to make comparisons between subpopulations in our survey, we must use the A/B Test Calculator in order to get our desired survey size.\n",
    "\n"
   ]
  },
  {
   "cell_type": "markdown",
   "metadata": {},
   "source": [
    "1. A local high school is having a battle of the bands because they can’t decide who should play the Junior/Senior dance. All the big names are going to give it a shot: The Secretariats, Frank & Stein’s Monsters, Bad Words, even Sour Candy. We suspect that Sour Candy is more popular with seniors than with juniors. In previous years, about 35% of students preferred Sour Candy. We’re worried about a difference of more than 14 percentage points (40% difference), and only need to be 85% sure of the significance. How many students should we invite to the battle of the bands in order to test our hypothesis? Save your answer to band_battle_sample_size."
   ]
  },
  {
   "cell_type": "code",
   "execution_count": null,
   "metadata": {},
   "outputs": [],
   "source": [
    "# The basline conversion rate is 35% ... the old value\n",
    "# The ne rate is 40%\n",
    "# Plug the numbers is with statistical significance = 85%\n",
    "band_battle_saple_size = 170"
   ]
  },
  {
   "cell_type": "markdown",
   "metadata": {},
   "source": [
    "### A/B Testing at Nosh Mish Mosh\n",
    "The Nosh Mish Mosh is a recipe and ingredient meal delivery service. We ship the raw materials and you get to cook it at your home! We’ve decided to hire a data analyst to help them make product and interface decisions. Get started and we’ll be able to judge the amount of data we’ll need for these differences to be meaningful."
   ]
  },
  {
   "cell_type": "code",
   "execution_count": 12,
   "metadata": {},
   "outputs": [],
   "source": [
    "import noshmishmosh"
   ]
  },
  {
   "cell_type": "markdown",
   "metadata": {},
   "source": [
    "1. Nosh Mish Mosh wants to run an experiment to see if we can convince more people to purchase meal plans if we use a more artisanal-looking vegetable selection. We’ve photographed these modern meals with blush tomatoes and graffiti eggplants, but aren’t sure if this strategy will sell enough units to benefit from establishing a business relationship with a new provider.\n",
    "\n",
    "Before running this experiment, of course, we need to know how many people have to see the new assets. We don’t want customers seeing food that we won’t end up offering. Of course, there are three things we need to know before we determine that number.\n",
    "\n",
    "- the Baseline\n",
    "- the Minimum Detectable Effect\n",
    "- and the Statistical Significance\n",
    "\n",
    "Let’s get the ball rolling on finding those numbers! In order to get our baseline, we need to first know how many users visited the site. Let’s grab that logged information, which is stored in noshmishmosh.customer_visits. Assign that to a new variable called all_visitors"
   ]
  },
  {
   "cell_type": "code",
   "execution_count": 37,
   "metadata": {},
   "outputs": [],
   "source": [
    "all_visitors = noshmishmosh.customer_visits\n",
    "x = np.array(all_visitors)"
   ]
  },
  {
   "cell_type": "markdown",
   "metadata": {},
   "source": [
    "Next we need to know how many visitors to the site ultimately end up buying a meal or set of meals from Nosh Mish Mosh. We have that information saved into purchasing_customers field on noshmishmosh. Save that information into a variable called paying_visitors."
   ]
  },
  {
   "cell_type": "code",
   "execution_count": 39,
   "metadata": {},
   "outputs": [
    {
     "data": {
      "text/plain": [
       "'1.18.5'"
      ]
     },
     "execution_count": 39,
     "metadata": {},
     "output_type": "execute_result"
    }
   ],
   "source": [
    "np.version.version"
   ]
  },
  {
   "cell_type": "code",
   "execution_count": null,
   "metadata": {},
   "outputs": [],
   "source": []
  }
 ],
 "metadata": {
  "kernelspec": {
   "display_name": "Python 3",
   "language": "python",
   "name": "python3"
  },
  "language_info": {
   "codemirror_mode": {
    "name": "ipython",
    "version": 3
   },
   "file_extension": ".py",
   "mimetype": "text/x-python",
   "name": "python",
   "nbconvert_exporter": "python",
   "pygments_lexer": "ipython3",
   "version": "3.8.5"
  }
 },
 "nbformat": 4,
 "nbformat_minor": 4
}
